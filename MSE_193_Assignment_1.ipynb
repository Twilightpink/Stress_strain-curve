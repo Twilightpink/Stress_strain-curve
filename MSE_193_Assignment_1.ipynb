{
 "cells": [
  {
   "cell_type": "code",
   "execution_count": 5,
   "metadata": {},
   "outputs": [],
   "source": [
    "import numpy as np\n",
    "import matplotlib.pyplot as plt\n",
    "import scipy\n",
    "%matplotlib inline\n",
    "import pandas as pd\n",
    "import matplotlib.lines as lines\n",
    "import matplotlib.patches as patches\n"
   ]
  },
  {
   "cell_type": "code",
   "execution_count": 6,
   "metadata": {},
   "outputs": [
    {
     "data": {
      "text/html": [
       "<div>\n",
       "<style scoped>\n",
       "    .dataframe tbody tr th:only-of-type {\n",
       "        vertical-align: middle;\n",
       "    }\n",
       "\n",
       "    .dataframe tbody tr th {\n",
       "        vertical-align: top;\n",
       "    }\n",
       "\n",
       "    .dataframe thead th {\n",
       "        text-align: right;\n",
       "    }\n",
       "</style>\n",
       "<table border=\"1\" class=\"dataframe\">\n",
       "  <thead>\n",
       "    <tr style=\"text-align: right;\">\n",
       "      <th></th>\n",
       "      <th>Load</th>\n",
       "      <th>Elongation</th>\n",
       "      <th>strain (mm/mm)</th>\n",
       "      <th>stress N/mm2</th>\n",
       "      <th>stress in Pa</th>\n",
       "    </tr>\n",
       "  </thead>\n",
       "  <tbody>\n",
       "    <tr>\n",
       "      <th>0</th>\n",
       "      <td>0.00</td>\n",
       "      <td>0.0000</td>\n",
       "      <td>0.000000</td>\n",
       "      <td>0.000000e+00</td>\n",
       "      <td>0.000000e+00</td>\n",
       "    </tr>\n",
       "    <tr>\n",
       "      <th>1</th>\n",
       "      <td>12.25</td>\n",
       "      <td>0.0187</td>\n",
       "      <td>0.000201</td>\n",
       "      <td>2.496836e+08</td>\n",
       "      <td>2.496836e+14</td>\n",
       "    </tr>\n",
       "    <tr>\n",
       "      <th>2</th>\n",
       "      <td>24.52</td>\n",
       "      <td>0.0250</td>\n",
       "      <td>0.000269</td>\n",
       "      <td>4.997748e+08</td>\n",
       "      <td>4.997748e+14</td>\n",
       "    </tr>\n",
       "    <tr>\n",
       "      <th>3</th>\n",
       "      <td>36.78</td>\n",
       "      <td>0.0301</td>\n",
       "      <td>0.000324</td>\n",
       "      <td>7.496622e+08</td>\n",
       "      <td>7.496622e+14</td>\n",
       "    </tr>\n",
       "    <tr>\n",
       "      <th>4</th>\n",
       "      <td>49.05</td>\n",
       "      <td>0.0359</td>\n",
       "      <td>0.000386</td>\n",
       "      <td>9.997534e+08</td>\n",
       "      <td>9.997534e+14</td>\n",
       "    </tr>\n",
       "    <tr>\n",
       "      <th>5</th>\n",
       "      <td>61.31</td>\n",
       "      <td>0.0403</td>\n",
       "      <td>0.000433</td>\n",
       "      <td>1.249641e+09</td>\n",
       "      <td>1.249641e+15</td>\n",
       "    </tr>\n",
       "    <tr>\n",
       "      <th>6</th>\n",
       "      <td>73.57</td>\n",
       "      <td>0.0452</td>\n",
       "      <td>0.000486</td>\n",
       "      <td>1.499528e+09</td>\n",
       "      <td>1.499528e+15</td>\n",
       "    </tr>\n",
       "    <tr>\n",
       "      <th>7</th>\n",
       "      <td>85.83</td>\n",
       "      <td>0.0505</td>\n",
       "      <td>0.000543</td>\n",
       "      <td>1.749416e+09</td>\n",
       "      <td>1.749416e+15</td>\n",
       "    </tr>\n",
       "    <tr>\n",
       "      <th>8</th>\n",
       "      <td>98.10</td>\n",
       "      <td>0.0550</td>\n",
       "      <td>0.000591</td>\n",
       "      <td>1.999507e+09</td>\n",
       "      <td>1.999507e+15</td>\n",
       "    </tr>\n",
       "    <tr>\n",
       "      <th>9</th>\n",
       "      <td>110.36</td>\n",
       "      <td>0.0600</td>\n",
       "      <td>0.000645</td>\n",
       "      <td>2.249394e+09</td>\n",
       "      <td>2.249394e+15</td>\n",
       "    </tr>\n",
       "    <tr>\n",
       "      <th>10</th>\n",
       "      <td>122.62</td>\n",
       "      <td>0.0650</td>\n",
       "      <td>0.000699</td>\n",
       "      <td>2.499282e+09</td>\n",
       "      <td>2.499282e+15</td>\n",
       "    </tr>\n",
       "    <tr>\n",
       "      <th>11</th>\n",
       "      <td>134.88</td>\n",
       "      <td>0.0701</td>\n",
       "      <td>0.000754</td>\n",
       "      <td>2.749169e+09</td>\n",
       "      <td>2.749169e+15</td>\n",
       "    </tr>\n",
       "    <tr>\n",
       "      <th>12</th>\n",
       "      <td>147.15</td>\n",
       "      <td>0.0751</td>\n",
       "      <td>0.000808</td>\n",
       "      <td>2.999260e+09</td>\n",
       "      <td>2.999260e+15</td>\n",
       "    </tr>\n",
       "    <tr>\n",
       "      <th>13</th>\n",
       "      <td>159.41</td>\n",
       "      <td>0.0809</td>\n",
       "      <td>0.000870</td>\n",
       "      <td>3.249148e+09</td>\n",
       "      <td>3.249148e+15</td>\n",
       "    </tr>\n",
       "    <tr>\n",
       "      <th>14</th>\n",
       "      <td>171.67</td>\n",
       "      <td>0.0851</td>\n",
       "      <td>0.000915</td>\n",
       "      <td>3.499035e+09</td>\n",
       "      <td>3.499035e+15</td>\n",
       "    </tr>\n",
       "    <tr>\n",
       "      <th>15</th>\n",
       "      <td>183.94</td>\n",
       "      <td>0.0951</td>\n",
       "      <td>0.001023</td>\n",
       "      <td>3.749126e+09</td>\n",
       "      <td>3.749126e+15</td>\n",
       "    </tr>\n",
       "    <tr>\n",
       "      <th>16</th>\n",
       "      <td>196.20</td>\n",
       "      <td>0.1195</td>\n",
       "      <td>0.001285</td>\n",
       "      <td>3.999013e+09</td>\n",
       "      <td>3.999013e+15</td>\n",
       "    </tr>\n",
       "  </tbody>\n",
       "</table>\n",
       "</div>"
      ],
      "text/plain": [
       "      Load  Elongation  strain (mm/mm)  stress N/mm2  stress in Pa\n",
       "0     0.00      0.0000        0.000000  0.000000e+00  0.000000e+00\n",
       "1    12.25      0.0187        0.000201  2.496836e+08  2.496836e+14\n",
       "2    24.52      0.0250        0.000269  4.997748e+08  4.997748e+14\n",
       "3    36.78      0.0301        0.000324  7.496622e+08  7.496622e+14\n",
       "4    49.05      0.0359        0.000386  9.997534e+08  9.997534e+14\n",
       "5    61.31      0.0403        0.000433  1.249641e+09  1.249641e+15\n",
       "6    73.57      0.0452        0.000486  1.499528e+09  1.499528e+15\n",
       "7    85.83      0.0505        0.000543  1.749416e+09  1.749416e+15\n",
       "8    98.10      0.0550        0.000591  1.999507e+09  1.999507e+15\n",
       "9   110.36      0.0600        0.000645  2.249394e+09  2.249394e+15\n",
       "10  122.62      0.0650        0.000699  2.499282e+09  2.499282e+15\n",
       "11  134.88      0.0701        0.000754  2.749169e+09  2.749169e+15\n",
       "12  147.15      0.0751        0.000808  2.999260e+09  2.999260e+15\n",
       "13  159.41      0.0809        0.000870  3.249148e+09  3.249148e+15\n",
       "14  171.67      0.0851        0.000915  3.499035e+09  3.499035e+15\n",
       "15  183.94      0.0951        0.001023  3.749126e+09  3.749126e+15\n",
       "16  196.20      0.1195        0.001285  3.999013e+09  3.999013e+15"
      ]
     },
     "execution_count": 6,
     "metadata": {},
     "output_type": "execute_result"
    }
   ],
   "source": [
    "file = pd.read_excel('Tdata.xlsx')\n",
    "file"
   ]
  },
  {
   "cell_type": "code",
   "execution_count": 7,
   "metadata": {},
   "outputs": [
    {
     "name": "stdout",
     "output_type": "stream",
     "text": [
      "[0.00000000e+00 2.49681529e+14 4.99770701e+14 7.49656051e+14\n",
      " 9.99745223e+14 1.24963057e+15 1.49951592e+15 1.74940127e+15\n",
      " 1.99949045e+15 2.24937580e+15 2.49926115e+15 2.74914650e+15\n",
      " 2.99923567e+15 3.24912102e+15 3.49900637e+15 3.74909554e+15\n",
      " 3.99898089e+15]\n"
     ]
    }
   ],
   "source": [
    "load = np.array([0,12.25,24.52,36.78,49.05,61.31,73.57,85.83,98.1,110.36,122.62,134.88,147.15,159.41,171.67,183.94,196.2])\n",
    "elong = np.array([0,0.0187,0.025,0.0301,0.0359,0.0403,0.0452,0.0505,0.0550,0.0600,0.0650,0.0701,0.0751,0.0809,0.0851,0.0951,0.1195])\n",
    "area = 4.90625e-8\n",
    "stress = (load/area)/(10**-6)\n",
    "print(stress)"
   ]
  },
  {
   "cell_type": "code",
   "execution_count": 8,
   "metadata": {},
   "outputs": [
    {
     "name": "stdout",
     "output_type": "stream",
     "text": [
      "[0.         0.00020108 0.00026882 0.00032366 0.00038602 0.00043333\n",
      " 0.00048602 0.00054301 0.0005914  0.00064516 0.00069892 0.00075376\n",
      " 0.00080753 0.00086989 0.00091505 0.00102258 0.00128495]\n"
     ]
    }
   ],
   "source": [
    "l = 93\n",
    "strain = elong/l\n",
    "print(strain)"
   ]
  },
  {
   "cell_type": "code",
   "execution_count": 12,
   "metadata": {},
   "outputs": [
    {
     "name": "stdout",
     "output_type": "stream",
     "text": [
      "The slope of the graph i.e Young's modulus is 3810148342.721159 GPa\n",
      "The y - intercept of the graph is -293659383731055.0\n",
      "The resilience is 1916.8750586465999 GPa\n",
      "The yield stress is 3749095540.0 MPa\n",
      "The Ultimate Tensile Strength is 4000000000.0 MPa\n",
      "Therefore the given material is brittle\n"
     ]
    },
    {
     "data": {
      "text/plain": [
       "<matplotlib.legend.Legend at 0x7fd3b24650d0>"
      ]
     },
     "execution_count": 12,
     "metadata": {},
     "output_type": "execute_result"
    },
    {
     "data": {
      "image/png": "[encoded data removed]",
      "text/plain": [
       "<Figure size 720x576 with 1 Axes>"
      ]
     },
     "metadata": {
      "needs_background": "light"
     },
     "output_type": "display_data"
    }
   ],
   "source": [
    "plt.plot(strain,stress)\n",
    "plt.xlabel('Strain (mm/mm)')\n",
    "plt.ylabel('Stress (Pa)')\n",
    "plt.title('Stress vs Strain')\n",
    "slope, intercept = np.polyfit(strain, stress, 1)\n",
    "print(\"The slope of the graph i.e Young's modulus is {} GPa\".format(slope/1e9))\n",
    "print(\"The y - intercept of the graph is {}\".format(intercept))\n",
    "UTS = 4e+15/1e6\n",
    "yp = 3.74909554e+15/1e6\n",
    "re = 0.5*(0.00102258)*(3.74909554e+15)/1e9\n",
    "print(\"The resilience is {} GPa\".format(re))\n",
    "print(\"The yield stress is {} MPa\".format(yp))\n",
    "print(\"The Ultimate Tensile Strength is {} MPa\".format(UTS))\n",
    "print(\"Therefore the given material is brittle\")\n",
    "plt.grid()\n",
    "abline_values = [slope * i + intercept for i in strain]\n",
    "plt.plot(strain, abline_values, '--',color='blue',label='trendline')\n",
    "\n",
    "plt.annotate('Fracture, UTS', xy=(0.00128495,3.99898089e+15), xytext=(0.00148495, 4.29898089e+15),\n",
    "            arrowprops=dict(facecolor='black', shrink=0.05,width = 0.01),\n",
    "            )\n",
    "plt.annotate('Yield Point', xy=(0.00102258,3.74909554e+15), xytext=(0.0014,2.94909554e+15 ),\n",
    "            arrowprops=dict(facecolor='black', shrink=0.05,width = 0.01),\n",
    "            )\n",
    "\n",
    "x2 = [0.0002,0.00102258]\n",
    "y2 = [0,3.74909554e+15]\n",
    "x3 = [0,0.00102258]\n",
    "y3 = [3.74909554e+15,3.74909554e+15]\n",
    "plt.plot(x3,y3,linestyle='--',color='orange')\n",
    "plt.plot(x2,y2,linestyle=\"--\",color='orange')\n",
    "plt.rcParams[\"figure.figsize\"] = (10, 8)\n",
    "plt.plot(strain, \n",
    "        stress,\n",
    "        marker = 'o',\n",
    "        color = 'magenta',label='Stress vs Strain curve')\n",
    "plt.legend()\n",
    "\n"
   ]
  },
  {
   "cell_type": "code",
   "execution_count": null,
   "metadata": {},
   "outputs": [],
   "source": []
  }
 ],
 "metadata": {
  "kernelspec": {
   "display_name": "Python 3",
   "language": "python",
   "name": "python3"
  },
  "language_info": {
   "codemirror_mode": {
    "name": "ipython",
    "version": 3
   },
   "file_extension": ".py",
   "mimetype": "text/x-python",
   "name": "python",
   "nbconvert_exporter": "python",
   "pygments_lexer": "ipython3",
   "version": "3.8.3"
  }
 },
 "nbformat": 4,
 "nbformat_minor": 4
}
